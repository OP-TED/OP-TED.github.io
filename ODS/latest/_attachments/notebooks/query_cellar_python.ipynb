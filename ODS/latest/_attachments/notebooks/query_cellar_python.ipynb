{
 "cells": [
  {
   "cell_type": "code",
   "execution_count": null,
   "metadata": {
    "collapsed": false,
    "pycharm": {
     "name": "#%%\n"
    }
   },
   "outputs": [],
   "source": [
    "# Uncomment last line of this cell (by deleting #) to install necessary dependencies.\n",
    "%pip install sparqlwrapper pandas Jinja2 matplotlib"
   ]
  },
  {
   "cell_type": "code",
   "execution_count": null,
   "metadata": {
    "collapsed": false,
    "pycharm": {
     "name": "#%%\n"
    }
   },
   "outputs": [],
   "source": [
    "import os\n",
    "from pathlib import Path\n",
    "# Import dependencies\n",
    "from io import StringIO\n",
    "from SPARQLWrapper import SPARQLWrapper, CSV\n",
    "from pandas import read_csv, DataFrame\n",
    "\n",
    "# Prepare variable with sparql endpoint\n",
    "\n",
    "QUERY_ENDPOINT: str = 'https://publications.europa.eu/webapi/rdf/sparql'\n",
    "\n",
    "SPARQL_PATH: Path = Path(os.path.abspath(\"\")).parent / 'queries' / 'winners.rq'\n",
    "\n",
    "# Example of sparql query\n",
    "\n",
    "SPARQL_QUERY: str = SPARQL_PATH.read_text()"
   ]
  },
  {
   "cell_type": "code",
   "execution_count": null,
   "metadata": {
    "collapsed": false,
    "pycharm": {
     "name": "#%%\n"
    }
   },
   "outputs": [],
   "source": [
    "# Prepare connection to sparql endpoint\n",
    "\n",
    "sparql_endpoint = SPARQLWrapper(QUERY_ENDPOINT)\n",
    "sparql_endpoint.setQuery(SPARQL_QUERY)\n",
    "sparql_endpoint.setReturnFormat(CSV)"
   ]
  },
  {
   "cell_type": "code",
   "execution_count": null,
   "metadata": {
    "collapsed": false,
    "pycharm": {
     "name": "#%%\n"
    }
   },
   "outputs": [],
   "source": [
    "# Request for query\n",
    "\n",
    "endpoint_result = sparql_endpoint.query().convert()\n",
    "\n",
    "# Convert endpoint result to table (dataframe)\n",
    "\n",
    "result_data = StringIO(str(endpoint_result, 'utf-8'))\n",
    "result_dataframe: DataFrame = read_csv(result_data)"
   ]
  },
  {
   "cell_type": "code",
   "execution_count": null,
   "metadata": {
    "collapsed": false,
    "is_executing": true,
    "pycharm": {
     "name": "#%%\n"
    }
   },
   "outputs": [],
   "source": [
    "# Print first 5 rows of result\n",
    "\n",
    "result_dataframe.head()"
   ]
  },
  {
   "cell_type": "code",
   "execution_count": null,
   "metadata": {},
   "outputs": [],
   "source": [
    "# Example of counting number of winners per winner country\n",
    "\n",
    "result_dataframe[\"WinnerCountryCode\"].value_counts()"
   ]
  }
 ],
 "metadata": {
  "kernelspec": {
   "display_name": "Python 3",
   "language": "python",
   "name": "python3"
  },
  "language_info": {
   "codemirror_mode": {
    "name": "ipython",
    "version": 3
   },
   "file_extension": ".py",
   "mimetype": "text/x-python",
   "name": "python",
   "nbconvert_exporter": "python",
   "pygments_lexer": "ipython3",
   "version": "3.8.10"
  }
 },
 "nbformat": 4,
 "nbformat_minor": 0
}
