{
 "cells": [
  {
   "cell_type": "markdown",
   "metadata": {},
   "source": [
    "# Use Jupyter Notebook with an SPARQL endpoint\n",
    "\n",
    "This Jupyter Notebook explores how to interact with the eProcurement Open Data endpoint using Python and SPARQL. By leveraging the querying capabilities of SPARQL and the powerful analytical features of pandas DataFrames, you can gain valuable insights from eProcurement notices."
   ]
  },
  {
   "cell_type": "markdown",
   "metadata": {},
   "source": [
    "## Running this notebook\n",
    "\n",
    "First install Jupyter Notebook in your Python environment. This can be done using the pip package manager with the following command:\n",
    "\n",
    "```sh\n",
    "pip install notebook\n",
    "```\n",
    "\n",
    "When installed, Open your command prompt or terminal, navigate to the directory where you want to store your notebook, and run the following command:\n",
    "\n",
    "```sh\n",
    "jupyter notebook\n",
    "```"
   ]
  },
  {
   "cell_type": "code",
   "execution_count": 1,
   "metadata": {},
   "outputs": [
    {
     "name": "stdout",
     "output_type": "stream",
     "text": [
      "Requirement already satisfied: sparqldataframe in /home/cvasquez/miniconda3/lib/python3.11/site-packages (0.1.2)\n",
      "Requirement already satisfied: pandas in /home/cvasquez/miniconda3/lib/python3.11/site-packages (from sparqldataframe) (2.2.1)\n",
      "Requirement already satisfied: requests in /home/cvasquez/miniconda3/lib/python3.11/site-packages (from sparqldataframe) (2.31.0)\n",
      "Requirement already satisfied: simplejson in /home/cvasquez/miniconda3/lib/python3.11/site-packages (from sparqldataframe) (3.19.2)\n",
      "Requirement already satisfied: numpy<2,>=1.23.2 in /home/cvasquez/miniconda3/lib/python3.11/site-packages (from pandas->sparqldataframe) (1.26.4)\n",
      "Requirement already satisfied: python-dateutil>=2.8.2 in /home/cvasquez/miniconda3/lib/python3.11/site-packages (from pandas->sparqldataframe) (2.9.0.post0)\n",
      "Requirement already satisfied: pytz>=2020.1 in /home/cvasquez/miniconda3/lib/python3.11/site-packages (from pandas->sparqldataframe) (2024.1)\n",
      "Requirement already satisfied: tzdata>=2022.7 in /home/cvasquez/miniconda3/lib/python3.11/site-packages (from pandas->sparqldataframe) (2024.1)\n",
      "Requirement already satisfied: charset-normalizer<4,>=2 in /home/cvasquez/miniconda3/lib/python3.11/site-packages (from requests->sparqldataframe) (2.0.4)\n",
      "Requirement already satisfied: idna<4,>=2.5 in /home/cvasquez/miniconda3/lib/python3.11/site-packages (from requests->sparqldataframe) (3.4)\n",
      "Requirement already satisfied: urllib3<3,>=1.21.1 in /home/cvasquez/miniconda3/lib/python3.11/site-packages (from requests->sparqldataframe) (1.26.18)\n",
      "Requirement already satisfied: certifi>=2017.4.17 in /home/cvasquez/miniconda3/lib/python3.11/site-packages (from requests->sparqldataframe) (2023.11.17)\n",
      "Requirement already satisfied: six>=1.5 in /home/cvasquez/miniconda3/lib/python3.11/site-packages (from python-dateutil>=2.8.2->pandas->sparqldataframe) (1.16.0)\n",
      "Requirement already satisfied: pandas in /home/cvasquez/miniconda3/lib/python3.11/site-packages (2.2.1)\n",
      "Requirement already satisfied: numpy<2,>=1.23.2 in /home/cvasquez/miniconda3/lib/python3.11/site-packages (from pandas) (1.26.4)\n",
      "Requirement already satisfied: python-dateutil>=2.8.2 in /home/cvasquez/miniconda3/lib/python3.11/site-packages (from pandas) (2.9.0.post0)\n",
      "Requirement already satisfied: pytz>=2020.1 in /home/cvasquez/miniconda3/lib/python3.11/site-packages (from pandas) (2024.1)\n",
      "Requirement already satisfied: tzdata>=2022.7 in /home/cvasquez/miniconda3/lib/python3.11/site-packages (from pandas) (2024.1)\n",
      "Requirement already satisfied: six>=1.5 in /home/cvasquez/miniconda3/lib/python3.11/site-packages (from python-dateutil>=2.8.2->pandas) (1.16.0)\n"
     ]
    }
   ],
   "source": [
    "### Installing the dependencies\n",
    "\n",
    "!pip install sparqldataframe\n",
    "!pip install pandas"
   ]
  },
  {
   "cell_type": "markdown",
   "metadata": {},
   "source": [
    "## SPARQL endpoint\n",
    "\n",
    "The data of Notices is available through the [SPARQL endpoint](https://publications.europa.eu/webapi/rdf/sparql)  of the Publications Office. You can use it to access and analyze data without the need of downloading all Notices"
   ]
  },
  {
   "cell_type": "markdown",
   "metadata": {},
   "source": [
    "## Example\n",
    "\n",
    "Python offers several libraries to interact with SPARQL endpoints. This example utilizes `sparqldataframe` for querying the endpoint, fetching results directly into a pandas Dataframe for further analysis.\n",
    "\n",
    "The following is a query that counts all the notices published in certain date, in this case \"20230911\"\n"
   ]
  },
  {
   "cell_type": "code",
   "execution_count": 2,
   "metadata": {},
   "outputs": [],
   "source": [
    "import sparqldataframe"
   ]
  },
  {
   "cell_type": "code",
   "execution_count": 3,
   "metadata": {},
   "outputs": [],
   "source": [
    "counts = sparqldataframe.query(\"https://publications.europa.eu/webapi/rdf/sparql\",\"\"\" \n",
    "PREFIX epo: <http://data.europa.eu/a4g/ontology#>\n",
    "\n",
    "SELECT (COUNT(?Notice) AS ?NoticeCount) \n",
    "WHERE {\n",
    "    ?Notice a epo:Notice ;\n",
    "            epo:hasPublicationDate \"20230911\" .\n",
    "}\"\"\")    \n"
   ]
  },
  {
   "cell_type": "markdown",
   "metadata": {},
   "source": [
    "The data is now contained in a dataframe, with one element"
   ]
  },
  {
   "cell_type": "code",
   "execution_count": 4,
   "metadata": {},
   "outputs": [
    {
     "data": {
      "text/html": [
       "<div>\n",
       "<style scoped>\n",
       "    .dataframe tbody tr th:only-of-type {\n",
       "        vertical-align: middle;\n",
       "    }\n",
       "\n",
       "    .dataframe tbody tr th {\n",
       "        vertical-align: top;\n",
       "    }\n",
       "\n",
       "    .dataframe thead th {\n",
       "        text-align: right;\n",
       "    }\n",
       "</style>\n",
       "<table border=\"1\" class=\"dataframe\">\n",
       "  <thead>\n",
       "    <tr style=\"text-align: right;\">\n",
       "      <th></th>\n",
       "      <th>NoticeCount</th>\n",
       "    </tr>\n",
       "  </thead>\n",
       "  <tbody>\n",
       "    <tr>\n",
       "      <th>0</th>\n",
       "      <td>1187</td>\n",
       "    </tr>\n",
       "  </tbody>\n",
       "</table>\n",
       "</div>"
      ],
      "text/plain": [
       "  NoticeCount\n",
       "0        1187"
      ]
     },
     "execution_count": 4,
     "metadata": {},
     "output_type": "execute_result"
    }
   ],
   "source": [
    "counts.head()"
   ]
  },
  {
   "cell_type": "markdown",
   "metadata": {},
   "source": [
    "Let's move into a more complex example. \n",
    "\n",
    "\n",
    "This query gathers retrieves details from eProcurement notices published between September 1 and September 10, 2023. It extracts the legal names of buyers, their countries, and the awarded values for each related lot.\n"
   ]
  },
  {
   "cell_type": "code",
   "execution_count": 5,
   "metadata": {},
   "outputs": [],
   "source": [
    "import sparqldataframe\n",
    "\n",
    "sparql_query = \"\"\"\n",
    "PREFIX epo: <http://data.europa.eu/a4g/ontology#>\n",
    "PREFIX cccev: <http://data.europa.eu/m8g/>\n",
    "PREFIX org: <http://www.w3.org/ns/org#>\n",
    "\n",
    "SELECT DISTINCT\n",
    "?pubDate\n",
    "?CountryLabel\n",
    "?LegalName\n",
    "?AwardedValue\n",
    "?Currency\n",
    "WHERE {\n",
    "    ?Notice epo:hasPublicationDate ?pubDate ;\n",
    "            epo:announcesRole [\n",
    "                a epo:Buyer ;\n",
    "                epo:playedBy [\n",
    "                    cccev:registeredAddress [epo:hasCountryCode ?CountryCode]  ;\n",
    "                    epo:hasLegalName ?LegalName \n",
    "                ] \n",
    "            ] ;\n",
    "            epo:refersToLot ?Lot .\n",
    "\n",
    "    ?LotAwardOutcome epo:describesLot ?Lot ;\n",
    "                     epo:hasAwardedValue [\n",
    "                        epo:hasAmountValue ?AwardedValue ;\n",
    "                        epo:hasCurrency ?Currency\n",
    "                     ] .\n",
    "  \t\t?CountryCode skos:prefLabel ?CountryLabel .\n",
    "      FILTER(lang(?CountryLabel) = \"en\")\n",
    "      FILTER(xsd:date(?pubDate) >= xsd:date(\"20230901\") && xsd:date(?pubDate) <= xsd:date(\"20230910\"))\n",
    "}\n",
    "\n",
    "\"\"\"\n",
    "df = sparqldataframe.query(\n",
    "  \"https://publications.europa.eu/webapi/rdf/sparql\",\n",
    "  sparql_query)"
   ]
  },
  {
   "cell_type": "code",
   "execution_count": 6,
   "metadata": {},
   "outputs": [
    {
     "data": {
      "text/html": [
       "<div>\n",
       "<style scoped>\n",
       "    .dataframe tbody tr th:only-of-type {\n",
       "        vertical-align: middle;\n",
       "    }\n",
       "\n",
       "    .dataframe tbody tr th {\n",
       "        vertical-align: top;\n",
       "    }\n",
       "\n",
       "    .dataframe thead th {\n",
       "        text-align: right;\n",
       "    }\n",
       "</style>\n",
       "<table border=\"1\" class=\"dataframe\">\n",
       "  <thead>\n",
       "    <tr style=\"text-align: right;\">\n",
       "      <th></th>\n",
       "      <th>pubDate</th>\n",
       "      <th>CountryLabel</th>\n",
       "      <th>LegalName</th>\n",
       "      <th>AwardedValue</th>\n",
       "      <th>Currency</th>\n",
       "    </tr>\n",
       "  </thead>\n",
       "  <tbody>\n",
       "    <tr>\n",
       "      <th>0</th>\n",
       "      <td>20230901</td>\n",
       "      <td>Germany</td>\n",
       "      <td>Deutsche Rentenversicherung Baden-Württemberg,...</td>\n",
       "      <td>1</td>\n",
       "      <td>http://publications.europa.eu/resource/authori...</td>\n",
       "    </tr>\n",
       "    <tr>\n",
       "      <th>1</th>\n",
       "      <td>20230901</td>\n",
       "      <td>Germany</td>\n",
       "      <td>Wasser- und Abwasserzweckverband \"Elbe-Elster-...</td>\n",
       "      <td>200000</td>\n",
       "      <td>http://publications.europa.eu/resource/authori...</td>\n",
       "    </tr>\n",
       "    <tr>\n",
       "      <th>2</th>\n",
       "      <td>20230901</td>\n",
       "      <td>Germany</td>\n",
       "      <td>Gemeinde Scharbeutz</td>\n",
       "      <td>2000000</td>\n",
       "      <td>http://publications.europa.eu/resource/authori...</td>\n",
       "    </tr>\n",
       "    <tr>\n",
       "      <th>3</th>\n",
       "      <td>20230901</td>\n",
       "      <td>France</td>\n",
       "      <td>Société SAPN</td>\n",
       "      <td>393760</td>\n",
       "      <td>http://publications.europa.eu/resource/authori...</td>\n",
       "    </tr>\n",
       "    <tr>\n",
       "      <th>4</th>\n",
       "      <td>20230901</td>\n",
       "      <td>France</td>\n",
       "      <td>cci Pays de la Loire</td>\n",
       "      <td>480000</td>\n",
       "      <td>http://publications.europa.eu/resource/authori...</td>\n",
       "    </tr>\n",
       "  </tbody>\n",
       "</table>\n",
       "</div>"
      ],
      "text/plain": [
       "    pubDate CountryLabel                                          LegalName  \\\n",
       "0  20230901      Germany  Deutsche Rentenversicherung Baden-Württemberg,...   \n",
       "1  20230901      Germany  Wasser- und Abwasserzweckverband \"Elbe-Elster-...   \n",
       "2  20230901      Germany                                Gemeinde Scharbeutz   \n",
       "3  20230901       France                                       Société SAPN   \n",
       "4  20230901       France                               cci Pays de la Loire   \n",
       "\n",
       "  AwardedValue                                           Currency  \n",
       "0            1  http://publications.europa.eu/resource/authori...  \n",
       "1       200000  http://publications.europa.eu/resource/authori...  \n",
       "2      2000000  http://publications.europa.eu/resource/authori...  \n",
       "3       393760  http://publications.europa.eu/resource/authori...  \n",
       "4       480000  http://publications.europa.eu/resource/authori...  "
      ]
     },
     "execution_count": 6,
     "metadata": {},
     "output_type": "execute_result"
    }
   ],
   "source": [
    "df.head()"
   ]
  },
  {
   "cell_type": "markdown",
   "metadata": {},
   "source": [
    "Some statistics of this data frame:"
   ]
  },
  {
   "cell_type": "code",
   "execution_count": 7,
   "metadata": {},
   "outputs": [
    {
     "data": {
      "text/html": [
       "<div>\n",
       "<style scoped>\n",
       "    .dataframe tbody tr th:only-of-type {\n",
       "        vertical-align: middle;\n",
       "    }\n",
       "\n",
       "    .dataframe tbody tr th {\n",
       "        vertical-align: top;\n",
       "    }\n",
       "\n",
       "    .dataframe thead th {\n",
       "        text-align: right;\n",
       "    }\n",
       "</style>\n",
       "<table border=\"1\" class=\"dataframe\">\n",
       "  <thead>\n",
       "    <tr style=\"text-align: right;\">\n",
       "      <th></th>\n",
       "      <th>pubDate</th>\n",
       "      <th>CountryLabel</th>\n",
       "      <th>LegalName</th>\n",
       "      <th>AwardedValue</th>\n",
       "      <th>Currency</th>\n",
       "    </tr>\n",
       "  </thead>\n",
       "  <tbody>\n",
       "    <tr>\n",
       "      <th>count</th>\n",
       "      <td>33657</td>\n",
       "      <td>33657</td>\n",
       "      <td>33657</td>\n",
       "      <td>33657</td>\n",
       "      <td>33657</td>\n",
       "    </tr>\n",
       "    <tr>\n",
       "      <th>unique</th>\n",
       "      <td>6</td>\n",
       "      <td>41</td>\n",
       "      <td>5227</td>\n",
       "      <td>20268</td>\n",
       "      <td>17</td>\n",
       "    </tr>\n",
       "    <tr>\n",
       "      <th>top</th>\n",
       "      <td>20230901</td>\n",
       "      <td>Romania</td>\n",
       "      <td>Spital Clinic Judetean de Urgenta Arad</td>\n",
       "      <td>0.01</td>\n",
       "      <td>http://publications.europa.eu/resource/authori...</td>\n",
       "    </tr>\n",
       "    <tr>\n",
       "      <th>freq</th>\n",
       "      <td>9588</td>\n",
       "      <td>14712</td>\n",
       "      <td>1475</td>\n",
       "      <td>347</td>\n",
       "      <td>14373</td>\n",
       "    </tr>\n",
       "  </tbody>\n",
       "</table>\n",
       "</div>"
      ],
      "text/plain": [
       "         pubDate CountryLabel                               LegalName  \\\n",
       "count      33657        33657                                   33657   \n",
       "unique         6           41                                    5227   \n",
       "top     20230901      Romania  Spital Clinic Judetean de Urgenta Arad   \n",
       "freq        9588        14712                                    1475   \n",
       "\n",
       "       AwardedValue                                           Currency  \n",
       "count         33657                                              33657  \n",
       "unique        20268                                                 17  \n",
       "top            0.01  http://publications.europa.eu/resource/authori...  \n",
       "freq            347                                              14373  "
      ]
     },
     "execution_count": 7,
     "metadata": {},
     "output_type": "execute_result"
    }
   ],
   "source": [
    "df.describe()"
   ]
  },
  {
   "cell_type": "markdown",
   "metadata": {},
   "source": [
    "The distribution of countries in this dataframe:"
   ]
  },
  {
   "cell_type": "code",
   "execution_count": 8,
   "metadata": {
    "scrolled": true
   },
   "outputs": [
    {
     "data": {
      "text/plain": [
       "<Axes: xlabel='CountryLabel'>"
      ]
     },
     "execution_count": 8,
     "metadata": {},
     "output_type": "execute_result"
    },
    {
     "data": {
      "image/png": "[encoded data removed]",
      "text/plain": [
       "<Figure size 640x480 with 1 Axes>"
      ]
     },
     "metadata": {},
     "output_type": "display_data"
    }
   ],
   "source": [
    "df['CountryLabel'].value_counts().plot(kind='bar')"
   ]
  },
  {
   "cell_type": "markdown",
   "metadata": {},
   "source": [
    "## Conclusion\n",
    "\n",
    "\n",
    "As demonstrated, it is direct to integrate the values from a SPARQL endpoint into a DataFrame, unlocking the rich functionality of pandas to analyze data. "
   ]
  }
 ],
 "metadata": {
  "kernelspec": {
   "display_name": "Python 3 (ipykernel)",
   "language": "python",
   "name": "python3"
  },
  "language_info": {
   "codemirror_mode": {
    "name": "ipython",
    "version": 3
   },
   "file_extension": ".py",
   "mimetype": "text/x-python",
   "name": "python",
   "nbconvert_exporter": "python",
   "pygments_lexer": "ipython3",
   "version": "3.11.5"
  }
 },
 "nbformat": 4,
 "nbformat_minor": 4
}
