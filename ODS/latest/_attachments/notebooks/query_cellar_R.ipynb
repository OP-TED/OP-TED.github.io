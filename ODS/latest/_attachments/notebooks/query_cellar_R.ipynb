{
 "cells": [
  {
   "cell_type": "code",
   "execution_count": null,
   "metadata": {
    "collapsed": false,
    "pycharm": {
     "name": "#%%\n"
    },
    "vscode": {
     "languageId": "r"
    }
   },
   "outputs": [],
   "source": [
    "# Installing necessary packages\n",
    "# install.packages('RCurl')\n",
    "# install.packages('XML')\n",
    "install.packages('SPARQL_1.16.tar.gz', repos = NULL, type = \"source\")"
   ]
  },
  {
   "cell_type": "code",
   "execution_count": null,
   "metadata": {
    "collapsed": false,
    "pycharm": {
     "name": "#%%\n"
    },
    "vscode": {
     "languageId": "r"
    }
   },
   "outputs": [],
   "source": [
    "# Importing necessary libraries\n",
    "library(SPARQL)\n",
    "\n",
    "# Preparing link to endpoint\n",
    "query_endpoint <- \"https://publications.europa.eu/webapi/rdf/sparql\"\n",
    "\n",
    "# Preparing query\n",
    "query <- \"\n",
    "PREFIX epo: <http://data.europa.eu/a4g/ontology#>\n",
    "PREFIX org: <http://www.w3.org/ns/org#>\n",
    "PREFIX cccev: <http://data.europa.eu/m8g/>\n",
    "SELECT DISTINCT\n",
    "?WinnerLegalName\n",
    "(SAMPLE(?WinnerCountryCode) as ?WinnereCountryCodeURI)\n",
    "(SUM(?AwardedValue) as ?TotalAwardedValue)\n",
    "(?AwardedValueCurrency as ?AwardedValueCurrencyURI)\n",
    "WHERE {\n",
    "    VALUES ?NoticePublicationDate {\n",
    "        '20230905'\n",
    "    }\n",
    "    FILTER(LANG(?WinnerLegalName) = 'en')\n",
    "    ?Notice a epo:Notice;\n",
    "            epo:hasPublicationDate ?NoticePublicationDate ;\n",
    "            epo:refersToLot ?Lot .\n",
    "    ?LotAwardOutcome epo:describesLot ?Lot ;\n",
    "                     epo:hasAwardedValue ?MonetaryValue ;\n",
    "                     epo:comprisesTenderAwardOutcome ?TenderAwardOutcome.\n",
    "    ?TenderAwardOutcome a epo:TenderAwardOutcome;\n",
    "                        epo:indicatesAwardOfLotToWinner / epo:playedBy ?Winner.\n",
    "    ?Winner a org:Organization;\n",
    "            epo:hasLegalName ?WinnerLegalName .\n",
    "    OPTIONAL {\n",
    "        ?Winner cccev:registeredAddress / epo:hasCountryCode ?WinnerCountryCode.\n",
    "    }\n",
    "    ?MonetaryValue a epo:MonetaryValue;\n",
    "                   epo:hasAmountValue ?AwardedValue;\n",
    "                   epo:hasCurrency ?AwardedValueCurrency .\n",
    "}\n",
    "GROUP BY ?WinnerLegalName ?AwardedValueCurrency\n",
    "\""
   ]
  },
  {
   "cell_type": "code",
   "execution_count": null,
   "metadata": {
    "collapsed": false,
    "pycharm": {
     "name": "#%%\n"
    },
    "vscode": {
     "languageId": "r"
    }
   },
   "outputs": [],
   "source": [
    "# Quering endpoint\n",
    "query_data <- SPARQL(query_endpoint, query)\n",
    "\n",
    "# Access results as table (dataframe)\n",
    "data_frame <- query_data$results"
   ]
  },
  {
   "cell_type": "code",
   "execution_count": null,
   "metadata": {
    "pycharm": {
     "name": "#%%\n"
    },
    "vscode": {
     "languageId": "r"
    }
   },
   "outputs": [],
   "source": [
    "# Print result\n",
    "data_frame"
   ]
  }
 ],
 "metadata": {
  "kernelspec": {
   "display_name": "R",
   "language": "R",
   "name": "ir"
  },
  "language_info": {
   "codemirror_mode": "r",
   "file_extension": ".r",
   "mimetype": "text/x-r-source",
   "name": "R",
   "pygments_lexer": "r",
   "version": "4.3.1"
  }
 },
 "nbformat": 4,
 "nbformat_minor": 0
}
